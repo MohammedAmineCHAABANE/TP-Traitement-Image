{
 "cells": [
  {
   "cell_type": "code",
   "execution_count": 3,
   "id": "ae1d3501",
   "metadata": {},
   "outputs": [],
   "source": [
    "import cv2\n",
    "import numpy as np"
   ]
  },
  {
   "cell_type": "code",
   "execution_count": 5,
   "id": "01d4fe4d",
   "metadata": {},
   "outputs": [],
   "source": [
    "image=cv2.imread(\"Img/image.jpg\")"
   ]
  },
  {
   "cell_type": "code",
   "execution_count": 6,
   "id": "97a574f6",
   "metadata": {},
   "outputs": [],
   "source": [
    "def convertir_en_niveaux_de_gris(image_bgr):\n",
    "    b, g, r = cv2.split(image_bgr)  \n",
    "\n",
    "    niveaux_de_gris = (0.114 * b + 0.587 * g + 0.2989 * r).astype(np.uint8)\n",
    "\n",
    "    return niveaux_de_gris"
   ]
  },
  {
   "cell_type": "code",
   "execution_count": 7,
   "id": "fd4bef46",
   "metadata": {},
   "outputs": [],
   "source": [
    "image_gris = convertir_en_niveaux_de_gris(image)"
   ]
  },
  {
   "cell_type": "code",
   "execution_count": 10,
   "id": "bb14cc40",
   "metadata": {},
   "outputs": [],
   "source": [
    "def afficher_images(image):\n",
    "\n",
    "    cv2.imshow(\"Image\", image)\n",
    "    cv2.waitKey(0)\n",
    "    cv2.destroyAllWindows()"
   ]
  },
  {
   "cell_type": "code",
   "execution_count": 11,
   "id": "4f0331ad",
   "metadata": {},
   "outputs": [],
   "source": [
    "afficher_images(image_gris)"
   ]
  },
  {
   "cell_type": "code",
   "execution_count": 24,
   "id": "a86f84b0",
   "metadata": {},
   "outputs": [
    {
     "data": {
      "text/plain": [
       "True"
      ]
     },
     "execution_count": 24,
     "metadata": {},
     "output_type": "execute_result"
    }
   ],
   "source": [
    "cv2.imwrite(\"Img/image-gris.jpg\",image_gris)"
   ]
  },
  {
   "cell_type": "code",
   "execution_count": 12,
   "id": "557efcb8",
   "metadata": {},
   "outputs": [],
   "source": [
    "def compresser_image(image, facteur):\n",
    "    \n",
    "    hauteur, largeur = image.shape[:2]\n",
    "    nouvelle_largeur = largeur // facteur\n",
    "    nouvelle_hauteur = hauteur // facteur\n",
    "\n",
    "    image_compressee = image[::facteur, ::facteur]\n",
    "\n",
    "    return image_compressee"
   ]
  },
  {
   "cell_type": "code",
   "execution_count": 17,
   "id": "4c8d8deb",
   "metadata": {},
   "outputs": [],
   "source": [
    "facteur_compression = 4  \n",
    "image_compressee = compresser_image(image_gris, facteur_compression)"
   ]
  },
  {
   "cell_type": "code",
   "execution_count": 18,
   "id": "58620571",
   "metadata": {},
   "outputs": [
    {
     "data": {
      "text/plain": [
       "True"
      ]
     },
     "execution_count": 18,
     "metadata": {},
     "output_type": "execute_result"
    }
   ],
   "source": [
    "cv2.imwrite(\"Img/compress-img.jpg\",image_compressee)"
   ]
  },
  {
   "cell_type": "code",
   "execution_count": 19,
   "id": "1d6460e3",
   "metadata": {},
   "outputs": [],
   "source": [
    "def zoom_image(image, facteur):\n",
    "    \n",
    "    return image.repeat(facteur, axis=0).repeat(facteur, axis=1)"
   ]
  },
  {
   "cell_type": "code",
   "execution_count": 20,
   "id": "3bb1dc95",
   "metadata": {},
   "outputs": [],
   "source": [
    "facteur_zoom = 2  \n",
    "image_zoom = zoom_image(image, facteur_zoom)"
   ]
  },
  {
   "cell_type": "code",
   "execution_count": null,
   "id": "d77f3f2e",
   "metadata": {},
   "outputs": [],
   "source": [
    "cv2.imshow(f\"Image Zoomée x{facteur_zoom}\", image_zoom)\n",
    "cv2.waitKey(0)\n",
    "cv2.destroyAllWindows()"
   ]
  },
  {
   "cell_type": "code",
   "execution_count": 23,
   "id": "387b353a",
   "metadata": {},
   "outputs": [
    {
     "data": {
      "text/plain": [
       "True"
      ]
     },
     "execution_count": 23,
     "metadata": {},
     "output_type": "execute_result"
    }
   ],
   "source": [
    "cv2.imwrite(\"Img/zoom-img.jpg\",image_zoom)"
   ]
  }
 ],
 "metadata": {
  "kernelspec": {
   "display_name": "base",
   "language": "python",
   "name": "python3"
  },
  "language_info": {
   "codemirror_mode": {
    "name": "ipython",
    "version": 3
   },
   "file_extension": ".py",
   "mimetype": "text/x-python",
   "name": "python",
   "nbconvert_exporter": "python",
   "pygments_lexer": "ipython3",
   "version": "3.12.7"
  }
 },
 "nbformat": 4,
 "nbformat_minor": 5
}
